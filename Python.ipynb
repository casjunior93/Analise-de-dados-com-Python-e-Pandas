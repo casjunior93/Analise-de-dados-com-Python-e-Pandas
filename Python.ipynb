{
 "cells": [
  {
   "cell_type": "markdown",
   "id": "3e77552d",
   "metadata": {},
   "source": [
    "# Estruturas de dados"
   ]
  },
  {
   "cell_type": "markdown",
   "id": "dd9abe24",
   "metadata": {},
   "source": [
    "## Listas"
   ]
  },
  {
   "cell_type": "code",
   "execution_count": 2,
   "id": "56eed804",
   "metadata": {},
   "outputs": [
    {
     "data": {
      "text/plain": [
       "[1, 2, 3]"
      ]
     },
     "execution_count": 2,
     "metadata": {},
     "output_type": "execute_result"
    }
   ],
   "source": [
    "animais = [1,2,3]\n",
    "animais"
   ]
  },
  {
   "cell_type": "code",
   "execution_count": 3,
   "id": "78449b4d",
   "metadata": {},
   "outputs": [
    {
     "data": {
      "text/plain": [
       "1"
      ]
     },
     "execution_count": 3,
     "metadata": {},
     "output_type": "execute_result"
    }
   ],
   "source": [
    "#mostrando um elemento da lista\n",
    "animais[0]"
   ]
  },
  {
   "cell_type": "code",
   "execution_count": 4,
   "id": "875eddc9",
   "metadata": {},
   "outputs": [
    {
     "data": {
      "text/plain": [
       "['Papagaio', 2, 3]"
      ]
     },
     "execution_count": 4,
     "metadata": {},
     "output_type": "execute_result"
    }
   ],
   "source": [
    "#reatribuição\n",
    "animais[0] = \"Papagaio\"\n",
    "animais"
   ]
  },
  {
   "cell_type": "code",
   "execution_count": 5,
   "id": "732933de",
   "metadata": {},
   "outputs": [],
   "source": [
    "#remove elementos\n",
    "animais.remove(3)"
   ]
  },
  {
   "cell_type": "code",
   "execution_count": 6,
   "id": "b3d7d5ee",
   "metadata": {},
   "outputs": [
    {
     "data": {
      "text/plain": [
       "['Papagaio', 2]"
      ]
     },
     "execution_count": 6,
     "metadata": {},
     "output_type": "execute_result"
    }
   ],
   "source": [
    "animais"
   ]
  },
  {
   "cell_type": "code",
   "execution_count": 7,
   "id": "215ea682",
   "metadata": {},
   "outputs": [
    {
     "data": {
      "text/plain": [
       "2"
      ]
     },
     "execution_count": 7,
     "metadata": {},
     "output_type": "execute_result"
    }
   ],
   "source": [
    "#tamanho da lista\n",
    "len(animais)"
   ]
  },
  {
   "cell_type": "code",
   "execution_count": 8,
   "id": "dbac6204",
   "metadata": {},
   "outputs": [
    {
     "data": {
      "text/plain": [
       "True"
      ]
     },
     "execution_count": 8,
     "metadata": {},
     "output_type": "execute_result"
    }
   ],
   "source": [
    "#pertence a lista\n",
    "\"Papagaio\" in animais"
   ]
  },
  {
   "cell_type": "markdown",
   "id": "e63444b1",
   "metadata": {},
   "source": [
    "### Outros métodos"
   ]
  },
  {
   "cell_type": "code",
   "execution_count": 9,
   "id": "89fd367f",
   "metadata": {},
   "outputs": [],
   "source": [
    "lista = [500, 30, 300, 10]"
   ]
  },
  {
   "cell_type": "code",
   "execution_count": 10,
   "id": "bfab4f97",
   "metadata": {},
   "outputs": [
    {
     "data": {
      "text/plain": [
       "500"
      ]
     },
     "execution_count": 10,
     "metadata": {},
     "output_type": "execute_result"
    }
   ],
   "source": [
    "#numero maximo\n",
    "max(lista)"
   ]
  },
  {
   "cell_type": "code",
   "execution_count": 11,
   "id": "39341b95",
   "metadata": {},
   "outputs": [
    {
     "data": {
      "text/plain": [
       "10"
      ]
     },
     "execution_count": 11,
     "metadata": {},
     "output_type": "execute_result"
    }
   ],
   "source": [
    "#numero minimo\n",
    "min(lista)"
   ]
  },
  {
   "cell_type": "code",
   "execution_count": 12,
   "id": "e385486a",
   "metadata": {},
   "outputs": [
    {
     "data": {
      "text/plain": [
       "['Papagaio', 2, 'Leão']"
      ]
     },
     "execution_count": 12,
     "metadata": {},
     "output_type": "execute_result"
    }
   ],
   "source": [
    "#adiciona à lista\n",
    "animais.append(\"Leão\")\n",
    "animais"
   ]
  },
  {
   "cell_type": "code",
   "execution_count": 15,
   "id": "f2dbaf83",
   "metadata": {},
   "outputs": [
    {
     "data": {
      "text/plain": [
       "['Papagaio', 2, 'Leão', 'Cobra', 'Sapo', 'Cobra', 'Sapo']"
      ]
     },
     "execution_count": 15,
     "metadata": {},
     "output_type": "execute_result"
    }
   ],
   "source": [
    "#add mais de um elemento\n",
    "animais.extend([\"Cobra\", \"Sapo\"])\n",
    "animais"
   ]
  },
  {
   "cell_type": "code",
   "execution_count": 16,
   "id": "3170d388",
   "metadata": {},
   "outputs": [
    {
     "data": {
      "text/plain": [
       "2"
      ]
     },
     "execution_count": 16,
     "metadata": {},
     "output_type": "execute_result"
    }
   ],
   "source": [
    "#conta quantas vezes um elemento se repete\n",
    "animais.count(\"Sapo\")"
   ]
  },
  {
   "cell_type": "code",
   "execution_count": 18,
   "id": "d39f9332",
   "metadata": {},
   "outputs": [
    {
     "data": {
      "text/plain": [
       "[10, 30, 300, 500]"
      ]
     },
     "execution_count": 18,
     "metadata": {},
     "output_type": "execute_result"
    }
   ],
   "source": [
    "#ordena a lista do menor para o maior\n",
    "lista.sort()\n",
    "lista"
   ]
  },
  {
   "cell_type": "markdown",
   "id": "3eb1888e",
   "metadata": {},
   "source": [
    "## Tuplas"
   ]
  },
  {
   "cell_type": "code",
   "execution_count": 27,
   "id": "f14b8bdb",
   "metadata": {},
   "outputs": [
    {
     "data": {
      "text/plain": [
       "'Banana'"
      ]
     },
     "execution_count": 27,
     "metadata": {},
     "output_type": "execute_result"
    }
   ],
   "source": [
    "tupla =(\"Banana\", \"Maçã\", \"Pera\")\n",
    "tupla[0]"
   ]
  },
  {
   "cell_type": "code",
   "execution_count": 28,
   "id": "a53bb318",
   "metadata": {},
   "outputs": [
    {
     "data": {
      "text/plain": [
       "1"
      ]
     },
     "execution_count": 28,
     "metadata": {},
     "output_type": "execute_result"
    }
   ],
   "source": [
    "tupla.count(\"Banana\")"
   ]
  },
  {
   "cell_type": "code",
   "execution_count": 29,
   "id": "5347ccca",
   "metadata": {},
   "outputs": [
    {
     "data": {
      "text/plain": [
       "('Banana', 'Maçã')"
      ]
     },
     "execution_count": 29,
     "metadata": {},
     "output_type": "execute_result"
    }
   ],
   "source": [
    "tupla[0:2]"
   ]
  },
  {
   "cell_type": "markdown",
   "id": "7003ed27",
   "metadata": {},
   "source": [
    "## Dicionários"
   ]
  },
  {
   "cell_type": "code",
   "execution_count": 30,
   "id": "02775aae",
   "metadata": {},
   "outputs": [],
   "source": [
    "dc = {\"Maçã\": 20, \"Banana\":10, \"Laranja\":15, \"Uva\":5}"
   ]
  },
  {
   "cell_type": "code",
   "execution_count": 31,
   "id": "4c522658",
   "metadata": {},
   "outputs": [
    {
     "data": {
      "text/plain": [
       "{'Maçã': 20, 'Banana': 10, 'Laranja': 15, 'Uva': 5}"
      ]
     },
     "execution_count": 31,
     "metadata": {},
     "output_type": "execute_result"
    }
   ],
   "source": [
    "dc"
   ]
  },
  {
   "cell_type": "code",
   "execution_count": 33,
   "id": "948ddf6c",
   "metadata": {},
   "outputs": [
    {
     "data": {
      "text/plain": [
       "20"
      ]
     },
     "execution_count": 33,
     "metadata": {},
     "output_type": "execute_result"
    }
   ],
   "source": [
    "dc[\"Maçã\"]"
   ]
  },
  {
   "cell_type": "code",
   "execution_count": 34,
   "id": "1b78a006",
   "metadata": {},
   "outputs": [
    {
     "data": {
      "text/plain": [
       "{'Maçã': 25, 'Banana': 10, 'Laranja': 15, 'Uva': 5}"
      ]
     },
     "execution_count": 34,
     "metadata": {},
     "output_type": "execute_result"
    }
   ],
   "source": [
    "dc[\"Maçã\"] = 25\n",
    "dc"
   ]
  },
  {
   "cell_type": "code",
   "execution_count": 35,
   "id": "7d5bb0c2",
   "metadata": {},
   "outputs": [
    {
     "data": {
      "text/plain": [
       "dict_keys(['Maçã', 'Banana', 'Laranja', 'Uva'])"
      ]
     },
     "execution_count": 35,
     "metadata": {},
     "output_type": "execute_result"
    }
   ],
   "source": [
    "dc.keys()"
   ]
  },
  {
   "cell_type": "code",
   "execution_count": 36,
   "id": "19696972",
   "metadata": {},
   "outputs": [
    {
     "data": {
      "text/plain": [
       "dict_values([25, 10, 15, 5])"
      ]
     },
     "execution_count": 36,
     "metadata": {},
     "output_type": "execute_result"
    }
   ],
   "source": [
    "dc.values()"
   ]
  },
  {
   "cell_type": "code",
   "execution_count": 38,
   "id": "f9cd3bdd",
   "metadata": {},
   "outputs": [
    {
     "data": {
      "text/plain": [
       "22"
      ]
     },
     "execution_count": 38,
     "metadata": {},
     "output_type": "execute_result"
    }
   ],
   "source": [
    "#verifica se já existe uma chave, senão insere\n",
    "dc.setdefault(\"Limão\", 22)"
   ]
  },
  {
   "cell_type": "code",
   "execution_count": 39,
   "id": "24ddded0",
   "metadata": {},
   "outputs": [
    {
     "data": {
      "text/plain": [
       "25"
      ]
     },
     "execution_count": 39,
     "metadata": {},
     "output_type": "execute_result"
    }
   ],
   "source": [
    "dc.setdefault(\"Maçã\", 22)"
   ]
  },
  {
   "cell_type": "code",
   "execution_count": 40,
   "id": "e6e50b17",
   "metadata": {},
   "outputs": [
    {
     "data": {
      "text/plain": [
       "{'Maçã': 25, 'Banana': 10, 'Laranja': 15, 'Uva': 5, 'Limão': 22}"
      ]
     },
     "execution_count": 40,
     "metadata": {},
     "output_type": "execute_result"
    }
   ],
   "source": [
    "dc"
   ]
  },
  {
   "cell_type": "code",
   "execution_count": null,
   "id": "0e7b7c56",
   "metadata": {},
   "outputs": [],
   "source": []
  }
 ],
 "metadata": {
  "kernelspec": {
   "display_name": "Python 3 (ipykernel)",
   "language": "python",
   "name": "python3"
  },
  "language_info": {
   "codemirror_mode": {
    "name": "ipython",
    "version": 3
   },
   "file_extension": ".py",
   "mimetype": "text/x-python",
   "name": "python",
   "nbconvert_exporter": "python",
   "pygments_lexer": "ipython3",
   "version": "3.8.10"
  }
 },
 "nbformat": 4,
 "nbformat_minor": 5
}
